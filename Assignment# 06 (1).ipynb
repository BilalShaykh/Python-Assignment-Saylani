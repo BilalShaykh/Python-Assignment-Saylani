{
 "cells": [
  {
   "cell_type": "code",
   "execution_count": 4,
   "metadata": {},
   "outputs": [
    {
     "ename": "SyntaxError",
     "evalue": "EOL while scanning string literal (<ipython-input-4-b70f951f4621>, line 1)",
     "output_type": "error",
     "traceback": [
      "\u001b[1;36m  File \u001b[1;32m\"<ipython-input-4-b70f951f4621>\"\u001b[1;36m, line \u001b[1;32m1\u001b[0m\n\u001b[1;33m    print(\"What is OOP?\u001b[0m\n\u001b[1;37m                       ^\u001b[0m\n\u001b[1;31mSyntaxError\u001b[0m\u001b[1;31m:\u001b[0m EOL while scanning string literal\n"
     ]
    }
   ],
   "source": []
  },
  {
   "cell_type": "code",
   "execution_count": 2,
   "metadata": {},
   "outputs": [
    {
     "name": "stdout",
     "output_type": "stream",
     "text": [
      "The Manufacturer of Suzuki Mehran 2007 is Suzuki\n",
      "The Transmission of Toyota Corolla 2017 is Automatic\n",
      "The Color of Honda Civic 2018 is White\n",
      "The Transmission of Suzuki Cultus 2005 is Manual\n",
      "The Manufacturer of Honda City 2011 is Honda\n"
     ]
    }
   ],
   "source": [
    "class car():\n",
    "    def __init__(self, maker, model, year, color, transmission):\n",
    "        self.maker = maker\n",
    "        self.model = model\n",
    "        self.year = year\n",
    "        self.color = color\n",
    "        self.transmission = transmission\n",
    "            \n",
    "    def TransmissionType(self):\n",
    "        print (\"The Transmission of \" +self.maker.capitalize() +\" \"+self.model.capitalize() +\" \"+ str(self.year)  +\" is \" + self.transmission) \n",
    "    def CarColor(self):\n",
    "        print (\"The Color of \" +self.maker.capitalize() +\" \"+self.model.capitalize() +\" \"+ str(self.year)   +\" is \"+  self.color)          \n",
    "    def CarMaker(self):\n",
    "        print (\"The Manufacturer of \" +self.maker.capitalize() +\" \"+self.model.capitalize() +\" \"+ str(self.year)   +\" is \"+ self.maker)         \n",
    "        \n",
    "Honda =  car('Honda', 'Civic' , '2018' , 'White' , 'Automatic' )\n",
    "Toyota =  car('Toyota', 'Corolla' , '2017' , 'Black' , 'Automatic' )\n",
    "Suzuki =  car('Suzuki', 'Mehran' , '2007' , 'Green' , 'Manual' )\n",
    "SuzukiC =  car('Suzuki', 'Cultus' , '2005' , 'White' , 'Manual' )\n",
    "HondaC =  car('Honda', 'City' , '2011' , 'Black' , 'Automatic' )\n",
    "\n",
    "\n",
    "\n",
    "\n",
    "\n",
    "Suzuki.CarMaker() \n",
    "Toyota.TransmissionType()\n",
    "Honda.CarColor()\n",
    "SuzukiC.TransmissionType()\n",
    "HondaC.CarMaker()"
   ]
  },
  {
   "cell_type": "code",
   "execution_count": null,
   "metadata": {},
   "outputs": [],
   "source": []
  }
 ],
 "metadata": {
  "kernelspec": {
   "display_name": "Python 3",
   "language": "python",
   "name": "python3"
  },
  "language_info": {
   "codemirror_mode": {
    "name": "ipython",
    "version": 3
   },
   "file_extension": ".py",
   "mimetype": "text/x-python",
   "name": "python",
   "nbconvert_exporter": "python",
   "pygments_lexer": "ipython3",
   "version": "3.7.4"
  }
 },
 "nbformat": 4,
 "nbformat_minor": 2
}
