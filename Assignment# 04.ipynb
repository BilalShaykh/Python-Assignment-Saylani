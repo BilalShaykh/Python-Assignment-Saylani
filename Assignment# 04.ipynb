{
 "cells": [
  {
   "cell_type": "code",
   "execution_count": 1,
   "metadata": {},
   "outputs": [
    {
     "name": "stdout",
     "output_type": "stream",
     "text": [
      "{'first_name': 'Bilal', 'last name': 'Shaykh', 'age': '25', 'city': 'Karachi'}\n",
      "\n",
      "\n",
      "Bilal\n",
      "Shaykh\n",
      "25\n",
      "Karachi\n",
      "\n",
      "\n",
      "qualification added is: Inter\n",
      "\n",
      "\n",
      "{'first_name': 'Bilal', 'last name': 'Shaykh', 'age': '25', 'city': 'Karachi', 'qualification': 'Inter'}\n",
      "\n",
      "\n",
      "Updated Qualification is: B.E\n",
      "\n",
      "\n",
      "{'first_name': 'Bilal', 'last name': 'Shaykh', 'age': '25', 'city': 'Karachi', 'qualification': 'B.E'}\n",
      "\n",
      "\n",
      "Delete Qualification\n",
      "\n",
      "\n",
      "{'first_name': 'Bilal', 'last name': 'Shaykh', 'age': '25', 'city': 'Karachi'}\n"
     ]
    }
   ],
   "source": [
    "##Task# 01:\n",
    "\n",
    "data = {\n",
    "    \"first_name\":\"Bilal\",\n",
    "    \"last name\":\"Shaykh\",\n",
    "    \"age\":\"25\",\n",
    "    \"city\":\"Karachi\"\n",
    "}\n",
    "print(data)\n",
    "print(\"\\n\")\n",
    "\n",
    "for x in data.values():\n",
    "    print(x)\n",
    "    \n",
    "data.update({\"qualification\":\"Inter\"})\n",
    "print(\"\\n\")\n",
    "print(\"qualification added is:\", data[\"qualification\"])\n",
    "print(\"\\n\")\n",
    "print(data)    \n",
    "print(\"\\n\")\n",
    "data[\"qualification\"] = \"B.E\"\n",
    "print(\"Updated Qualification is:\", data[\"qualification\"])\n",
    "print(\"\\n\")\n",
    "print(data)  \n",
    "print(\"\\n\")\n",
    "del(data[\"qualification\"])\n",
    "print(\"Delete Qualification\")\n",
    "print(\"\\n\")\n",
    "print(data)"
   ]
  },
  {
   "cell_type": "code",
   "execution_count": 2,
   "metadata": {
    "scrolled": true
   },
   "outputs": [
    {
     "name": "stdout",
     "output_type": "stream",
     "text": [
      "city name: karachi \n",
      "Country name:          Pakistan \n",
      "Population of City:    14.91 million (2017) \n",
      "Fact about This City:  Karachi is among the cheapest city to live in\n",
      "\n",
      "\n",
      "city name: NewYork \n",
      "Country name:          United States Of America \n",
      "Population of City:    8.632 million (2017) \n",
      "Fact about This City:  New York City is the largest city in the United States.\n",
      "\n",
      "\n",
      "city name: Baghdad \n",
      "Country name:          Iraq \n",
      "Population of City:    7.665 million (2014) \n",
      "Fact about This City:  it became a centre of Islamic civilization and focus of caravan routes between Asia and Europe.\n",
      "\n",
      "\n"
     ]
    }
   ],
   "source": [
    "##Task# 02:\n",
    "\n",
    "cities = {\n",
    "    \"karachi\":{\"Country\":\"Pakistan\",\n",
    "               \"Population\":\"14.91 million (2017)\",\n",
    "               \"Fact\":\"Karachi is among the cheapest city to live in\"},\n",
    "    \"NewYork\":{\"Country\":\"United States Of America\",\n",
    "               \"Population\":\"8.632 million (2017)\",\n",
    "               \"Fact\":\"New York City is the largest city in the United States.\"},\n",
    "    \"Baghdad\":{\"Country\":\"Iraq\",\n",
    "               \"Population\":\"7.665 million (2014)\",\n",
    "               \"Fact\":\"it became a centre of Islamic civilization and focus of caravan routes between Asia and Europe.\"}\n",
    "}\n",
    "\n",
    "\n",
    "\n",
    "for x in cities.keys():\n",
    "    print(\"city name:\", x,\n",
    "          \"\\nCountry name:         \",cities[x][\"Country\"],\n",
    "          \"\\nPopulation of City:   \",cities[x][\"Population\"],\n",
    "          \"\\nFact about This City: \",cities[x][\"Fact\"])\n",
    "    print(\"\\n\")"
   ]
  },
  {
   "cell_type": "code",
   "execution_count": 6,
   "metadata": {},
   "outputs": [
    {
     "name": "stdout",
     "output_type": "stream",
     "text": [
      "#####WELCOME TO MOVIE CINEMA#####\n",
      "How many tickets you want?, please Enter Number of Persons: 3\n",
      "\n",
      "Enter age of a movie watcher: 46\n",
      "You are elder then 12 year, ticket cost will be $15.\n",
      "Total Number of Tickets are:  1\n",
      "Total cost is: $ 15\n",
      "\n",
      "Enter age of a movie watcher: 2\n",
      "You are less then 3 year, Ticket will be FREE.Little Bird ENJOY YOUR MOVIE\n",
      "Total Number of Tickets are:  2\n",
      "\n",
      "Enter age of a movie watcher: 7\n",
      "Your age is between 3 to 12 year, ticket cost will be $10. \n",
      "Total Number of Tickets are:  3\n",
      "Total cost is: $ 25\n",
      "--------------------------------------------------------------------\n",
      "\n",
      "Total Cost for 3 Tickets are $ 25 ENJOY YOUR SHOW!!!\n",
      "--------------------------------------------------------------------\n"
     ]
    }
   ],
   "source": [
    "##Task# 03:\n",
    "\n",
    "print(\"#####WELCOME TO MOVIE CINEMA#####\")\n",
    "nums_of_per = int(input(\"How many tickets you want?, please Enter Number of Persons: \"));\n",
    "total_cost = 0\n",
    "num_of_ticket = 0\n",
    "\n",
    "for age in range(0,nums_of_per):\n",
    "    age = int(input(\"\\nEnter age of a movie watcher: \",))\n",
    "    if age < 3 and age > 0:\n",
    "        print(\"You are less then 3 year, Ticket will be FREE.Little Bird ENJOY YOUR MOVIE\")\n",
    "        num_of_ticket += 1\n",
    "        print(\"Total Number of Tickets are: \",num_of_ticket)\n",
    "        \n",
    "    elif age >= 3 and age <=12:\n",
    "        print(\"Your age is between 3 to 12 year, ticket cost will be $10. \")\n",
    "        num_of_ticket += 1\n",
    "        print(\"Total Number of Tickets are: \",num_of_ticket)\n",
    "        total_cost += 10\n",
    "        print(\"Total cost is: $\",total_cost)\n",
    "        \n",
    "    else:\n",
    "        print(\"You are elder then 12 year, ticket cost will be $15.\")\n",
    "        num_of_ticket += 1\n",
    "        print(\"Total Number of Tickets are: \",num_of_ticket)\n",
    "        total_cost += 15\n",
    "        print(\"Total cost is: $\",total_cost)\n",
    "         \n",
    "print(\"--------------------------------------------------------------------\")     \n",
    "print(\"\\nTotal Cost for\", num_of_ticket, \"Tickets are $\",total_cost, \"ENJOY YOUR SHOW!!!\" )\n",
    "print(\"--------------------------------------------------------------------\")"
   ]
  },
  {
   "cell_type": "code",
   "execution_count": 9,
   "metadata": {},
   "outputs": [
    {
     "name": "stdout",
     "output_type": "stream",
     "text": [
      "Enter The Book Tittle: The Da Vinci Code\n",
      "\n",
      "One of my favorite books is The Da Vinci Code\n"
     ]
    }
   ],
   "source": [
    "##Task# 04:\n",
    "\n",
    "def favorite_book(book_name):\n",
    "    print(\"\\nOne of my favorite books is\",book_name)\n",
    "    \n",
    "title = input(\"Enter The Book Tittle: \")\n",
    "\n",
    "favorite_book(title)"
   ]
  },
  {
   "cell_type": "code",
   "execution_count": 11,
   "metadata": {},
   "outputs": [
    {
     "name": "stdout",
     "output_type": "stream",
     "text": [
      "Guess the number between 1 to 30 : 22\n",
      "Your guess is high\n",
      "\n",
      "Guess the number between 1 to 30 : 15\n",
      "Your guess is high\n",
      "\n",
      "Guess the number between 1 to 30 : 4\n",
      "Your guess is low\n",
      "\n",
      "You Loose\n",
      "\n",
      "Correct Number is  7\n"
     ]
    }
   ],
   "source": [
    "##Task# 05:\n",
    "\n",
    "import random\n",
    "\n",
    "random_number = random.randrange(1,30)\n",
    "\n",
    "flag = False\n",
    "\n",
    "for i in range(1,4):\n",
    "    guess = int(input(\"Guess the number between 1 to 30 : \"))\n",
    "    if guess == random_number:\n",
    "        flag = True \n",
    "        break\n",
    "    elif guess < random_number:\n",
    "        print(\"Your guess is low\\n\")\n",
    "    else:\n",
    "        print(\"Your guess is high\\n\")\n",
    "        \n",
    "if flag:\n",
    "    print(\"Congratulation you Win!!\")\n",
    "else:\n",
    "    print(\"You Loose\\n\")\n",
    "    print(\"Correct Number is \", random_number)"
   ]
  },
  {
   "cell_type": "code",
   "execution_count": null,
   "metadata": {},
   "outputs": [],
   "source": []
  }
 ],
 "metadata": {
  "kernelspec": {
   "display_name": "Python 3",
   "language": "python",
   "name": "python3"
  },
  "language_info": {
   "codemirror_mode": {
    "name": "ipython",
    "version": 3
   },
   "file_extension": ".py",
   "mimetype": "text/x-python",
   "name": "python",
   "nbconvert_exporter": "python",
   "pygments_lexer": "ipython3",
   "version": "3.7.4"
  }
 },
 "nbformat": 4,
 "nbformat_minor": 2
}
