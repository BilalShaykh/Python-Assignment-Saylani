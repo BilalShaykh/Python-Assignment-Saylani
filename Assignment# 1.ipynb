{
 "cells": [
  {
   "cell_type": "code",
   "execution_count": 1,
   "metadata": {},
   "outputs": [
    {
     "name": "stdout",
     "output_type": "stream",
     "text": [
      "Twinkle, twinkle, little star,\n",
      "      How I wonder what you are!\n",
      "            Up above the world so high,\n",
      "            Like a diamond in the sky.\n",
      "Twinkle, twinkle little star,\n",
      "      How I wonder waht you are\n"
     ]
    }
   ],
   "source": [
    "#Task# 1:\n",
    "\n",
    "firstpart = (\"Twinkle, twinkle, little star,\" \n",
    "        \"\\n      How I wonder what you are!\");\n",
    "secondpart = (\"\\n            Up above the world so high,\"\n",
    "              \"\\n            Like a diamond in the sky.\");\n",
    "thirdpart = (\"\\nTwinkle, twinkle little star,\"\n",
    "             \"\\n      How I wonder waht you are\");\n",
    "poem = firstpart + secondpart + thirdpart;\n",
    "print(poem);"
   ]
  },
  {
   "cell_type": "code",
   "execution_count": 9,
   "metadata": {},
   "outputs": [
    {
     "name": "stdout",
     "output_type": "stream",
     "text": [
      "Python version\n",
      "3.7.4 (default, Aug  9 2019, 18:34:13) [MSC v.1915 64 bit (AMD64)]\n",
      "Version info.\n",
      "sys.version_info(major=3, minor=7, micro=4, releaselevel='final', serial=0)\n"
     ]
    }
   ],
   "source": [
    "#Task# 2:\n",
    "\n",
    "import sys\n",
    "print(\"Python version\");\n",
    "print (sys.version);\n",
    "print(\"Version info.\");\n",
    "print (sys.version_info);"
   ]
  },
  {
   "cell_type": "code",
   "execution_count": 8,
   "metadata": {},
   "outputs": [
    {
     "name": "stdout",
     "output_type": "stream",
     "text": [
      "Current date and time : \n",
      "2019-11-03 10:37:35\n"
     ]
    }
   ],
   "source": [
    "#Task# 3:\n",
    "\n",
    "import datetime;\n",
    "now = datetime.datetime.now();\n",
    "print (\"Current date and time : \");\n",
    "print (now.strftime(\"%Y-%m-%d %H:%M:%S\"));"
   ]
  },
  {
   "cell_type": "code",
   "execution_count": 7,
   "metadata": {},
   "outputs": [
    {
     "name": "stdout",
     "output_type": "stream",
     "text": [
      "write radius of circle 68\n",
      "Radius of circle : 14526.71216\n"
     ]
    }
   ],
   "source": [
    "#Task# 4:\n",
    "\n",
    "r = int(input(\"write radius of circle \"));\n",
    "area =  (3.14159 *(r*r));\n",
    "print(\"Radius of circle :\", area);"
   ]
  },
  {
   "cell_type": "code",
   "execution_count": 1,
   "metadata": {},
   "outputs": [
    {
     "name": "stdout",
     "output_type": "stream",
     "text": [
      "Enter Your First Name: Bilal\n",
      "Enter Your Last Name: Shaykh\n",
      "Shaykh Bilal\n"
     ]
    }
   ],
   "source": [
    "#task# 5:\n",
    "\n",
    "first_name = input(\"Enter Your First Name: \");\n",
    "last_name = input(\"Enter Your Last Name: \");\n",
    "name = last_name + \" \" + first_name;\n",
    "print(name);"
   ]
  },
  {
   "cell_type": "code",
   "execution_count": 11,
   "metadata": {},
   "outputs": [
    {
     "name": "stdout",
     "output_type": "stream",
     "text": [
      "Input First Number: 4.667\n",
      "Input Second Number: 7.889\n",
      "sum of both number is : 12.556000000000001\n"
     ]
    }
   ],
   "source": [
    "#Task# 6:\n",
    "\n",
    "first_number = float(input(\"Input First Number: \"));\n",
    "second_number = float(input(\"Input Second Number: \"));\n",
    "total = (first_number + second_number);\n",
    "print(\"sum of both number is :\", total);"
   ]
  }
 ],
 "metadata": {
  "kernelspec": {
   "display_name": "Python 3",
   "language": "python",
   "name": "python3"
  },
  "language_info": {
   "codemirror_mode": {
    "name": "ipython",
    "version": 3
   },
   "file_extension": ".py",
   "mimetype": "text/x-python",
   "name": "python",
   "nbconvert_exporter": "python",
   "pygments_lexer": "ipython3",
   "version": "3.7.4"
  }
 },
 "nbformat": 4,
 "nbformat_minor": 2
}
