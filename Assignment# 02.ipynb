{
 "cells": [
  {
   "cell_type": "code",
   "execution_count": 5,
   "metadata": {},
   "outputs": [
    {
     "name": "stdout",
     "output_type": "stream",
     "text": [
      "Enter your marks of English = 44\n",
      "Enter your marks of Urdu = 44\n",
      "Enter your marks of Chemistry = 66\n",
      "Enter your marks of Physics = 77\n",
      "Enter your marks of Maths = 88\n",
      "YOUR TOTAL MARKS ARE 319\n",
      "YOUR PRECENTAGE IS 63.800000000000004\n",
      "Congratulations You have secured Grade C\n"
     ]
    }
   ],
   "source": [
    "#TASK# 01:\n",
    "\n",
    "Sub_1 = int(input(\"Enter your marks of English = \"));\n",
    "Sub_2 = int(input(\"Enter your marks of Urdu = \"))\n",
    "Sub_3 = int(input(\"Enter your marks of Chemistry = \"))\n",
    "Sub_4 = int(input(\"Enter your marks of Physics = \"))\n",
    "Sub_5 = int(input(\"Enter your marks of Maths = \"))\n",
    "Total_marks = (Sub_1+Sub_2+Sub_3+Sub_4+Sub_5);\n",
    "Percentage = ((Total_marks/500)*100);\n",
    "print(\"YOUR TOTAL MARKS ARE: \" + str(Total_marks));\n",
    "print(\"YOUR PRECENTAGE IS: \" + str(Percentage));\n",
    "if Sub_1>33 and Sub_2>33 and Sub_3>33 and Sub_4>33 and Sub_5>33:\n",
    "    if Percentage >= 90 and Percentage <=100:\n",
    "     print(\"Congratulations! You have secured Grade A+\")\n",
    "    elif Percentage <90 and Percentage >=80:\n",
    "     print(\"Congratulations! You have secured Grade A\")\n",
    "    elif Percentage <80 and Percentage >=70:\n",
    "     print(\"Congratulations You have secured Grade B\")\n",
    "    elif Percentage <70 and Percentage >=60:\n",
    "     print(\"Congratulations You have secured Grade C\")\n",
    "    elif Percentage <60 and Percentage >=50:\n",
    "     print(\"Congratulations You have secured Grade D\")\n",
    "    elif Percentage <50 and Percentage >=40:\n",
    "     print(\"Congratulations You have secured Grade E\")\n",
    "    elif Percentage <40 and Percentage >=33:\n",
    "     print(\"Congratulations You have secured Grade F\")\n",
    "    else:\n",
    "         print(\"You have failed in examinations\")\n",
    "else:\n",
    "    print(\"You have failed in examinations\")"
   ]
  },
  {
   "cell_type": "code",
   "execution_count": 8,
   "metadata": {},
   "outputs": [
    {
     "name": "stdout",
     "output_type": "stream",
     "text": [
      "Enter a number = 2\n",
      "Entered number is EVEN\n"
     ]
    }
   ],
   "source": [
    "#TASK# 02:\n",
    "\n",
    "number = int(input(\"Enter a number = \"));\n",
    "Remainder = (number%2);\n",
    "if Remainder == 1:\n",
    "    print(\"Entered number is ODD\")\n",
    "else:\n",
    "    print(\"Entered number is EVEN\")"
   ]
  },
  {
   "cell_type": "code",
   "execution_count": 16,
   "metadata": {},
   "outputs": [
    {
     "name": "stdout",
     "output_type": "stream",
     "text": [
      "7\n"
     ]
    }
   ],
   "source": [
    "#TASK# 03:\n",
    "\n",
    "list_01 = [\"BILAL\",6,992,\"SHAYKH\",4222,\"PYTHON\",493];\n",
    "print(len(list_01));"
   ]
  },
  {
   "cell_type": "code",
   "execution_count": 20,
   "metadata": {},
   "outputs": [
    {
     "name": "stdout",
     "output_type": "stream",
     "text": [
      "4252\n"
     ]
    }
   ],
   "source": [
    "list_01 = [788,32,395,2984,34,19,];\n",
    "print(sum(list_01));"
   ]
  },
  {
   "cell_type": "code",
   "execution_count": 21,
   "metadata": {},
   "outputs": [
    {
     "name": "stdout",
     "output_type": "stream",
     "text": [
      "94657\n"
     ]
    }
   ],
   "source": [
    "list_01 = [3854,44,289,94657,3657,9326];\n",
    "print(max(list_01));"
   ]
  },
  {
   "cell_type": "code",
   "execution_count": 23,
   "metadata": {},
   "outputs": [
    {
     "name": "stdout",
     "output_type": "stream",
     "text": [
      "[1, 1, 2, 3]\n"
     ]
    }
   ],
   "source": [
    "number = [1, 1, 2, 3, 5, 8, 13, 21, 34, 55, 89];\n",
    "only = [item for item in a if item < 5];\n",
    "print(only);"
   ]
  },
  {
   "cell_type": "code",
   "execution_count": null,
   "metadata": {},
   "outputs": [],
   "source": []
  }
 ],
 "metadata": {
  "kernelspec": {
   "display_name": "Python 3",
   "language": "python",
   "name": "python3"
  },
  "language_info": {
   "codemirror_mode": {
    "name": "ipython",
    "version": 3
   },
   "file_extension": ".py",
   "mimetype": "text/x-python",
   "name": "python",
   "nbconvert_exporter": "python",
   "pygments_lexer": "ipython3",
   "version": "3.7.4"
  }
 },
 "nbformat": 4,
 "nbformat_minor": 2
}
