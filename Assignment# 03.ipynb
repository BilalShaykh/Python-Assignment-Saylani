{
 "cells": [
  {
   "cell_type": "code",
   "execution_count": 15,
   "metadata": {},
   "outputs": [
    {
     "name": "stdout",
     "output_type": "stream",
     "text": [
      "Enter first value: 1046\n",
      "Enter second value: 23\n",
      "\n",
      "Enter: \n",
      "+ for Addition. \n",
      "- for Subtraction. \n",
      "* for Multiplication. \n",
      "/ for Division. \n",
      "^ for Power.\n",
      "\n",
      "Enter Operator: /\n",
      "\n",
      "Answer:  45.47826086956522\n"
     ]
    }
   ],
   "source": [
    "#Task# 01:\n",
    "\n",
    "val1= int(input(\"Enter first value: \"));\n",
    "val2= int(input(\"Enter second value: \"));\n",
    "\n",
    "print(\"\\nEnter: \\n+ for Addition. \\n- for Subtraction. \\n* for Multiplication. \\n/ for Division. \\n^ for Power.\");\n",
    "\n",
    "opr= input(\"\\nEnter Operator: \");\n",
    "\n",
    "if opr == \"+\":\n",
    "    val = val1 + val2;\n",
    "    print(\"\\nAnswer: \", val);\n",
    "elif opr == \"-\":\n",
    "    val = val1 - val2;\n",
    "    print(\"\\nAnswer: \", val);\n",
    "elif opr == \"*\":\n",
    "    val = val1 * val2;\n",
    "    print(\"\\nAnswer: \", val);\n",
    "elif opr == \"/\":\n",
    "    val = val1 / val2;\n",
    "    print(\"\\nAnswer: \", val);\n",
    "elif opr == \"^\":\n",
    "    val = val1 ** val2;\n",
    "    print(\"\\nAnswer: \", val);\n",
    "else :\n",
    "    print(\"\\nWRONG OPERATOR, PLEASE PUT OPERATOR THAT MENTION ABOVE\");"
   ]
  },
  {
   "cell_type": "code",
   "execution_count": 2,
   "metadata": {},
   "outputs": [
    {
     "name": "stdout",
     "output_type": "stream",
     "text": [
      "9\n",
      "88\n",
      "876\n",
      "379\n",
      "9999765\n"
     ]
    }
   ],
   "source": [
    "#Task# 02:\n",
    "\n",
    "lst = [\"mango\",\"9\",\"key\", \"lion\",\"88\", \"laptop\",\"876\",\"379\",\"mouse\",\"9999765\"]\n",
    "\n",
    "for a in lst:\n",
    "    if a.isnumeric() == True:\n",
    "        print(a);"
   ]
  },
  {
   "cell_type": "code",
   "execution_count": 5,
   "metadata": {},
   "outputs": [
    {
     "name": "stdout",
     "output_type": "stream",
     "text": [
      "{'laptop': 0, 'lcd': 1, 'keyboard': 2}\n",
      "{'laptop': 0, 'lcd': 1, 'keyboard': 2, 'mouse': 3}\n"
     ]
    }
   ],
   "source": [
    "#Task# 03:\n",
    "\n",
    "dict = {\"laptop\":0, \"lcd\":1, \"keyboard\":2}\n",
    "print(dict)\n",
    "dict.update({\"mouse\":3})\n",
    "print(dict)"
   ]
  },
  {
   "cell_type": "code",
   "execution_count": 7,
   "metadata": {},
   "outputs": [
    {
     "name": "stdout",
     "output_type": "stream",
     "text": [
      "1027\n"
     ]
    }
   ],
   "source": [
    "#Task# 04:\n",
    "\n",
    "dict = {'mouse': 36, 'handsfree': 82, 'computer': 9, 'battery': 900}\n",
    "print(sum(dict.values()));"
   ]
  },
  {
   "cell_type": "code",
   "execution_count": 9,
   "metadata": {},
   "outputs": [
    {
     "name": "stdout",
     "output_type": "stream",
     "text": [
      "\n",
      "Duplicates:\n",
      "mouse\n",
      "laptop\n",
      "9\n",
      "86\n",
      "\n",
      "\n",
      "Unique list: \n",
      "['laptop', 'mouse', '9', 'keyboard', '86', 'lcd', '89', 'charger']\n"
     ]
    }
   ],
   "source": [
    "#Task# 05:\n",
    "\n",
    "lst = [\"laptop\",\"mouse\",\"9\",\"keyboard\", \"mouse\",\"86\",\"laptop\", \"lcd\",\"9\",\"89\",\"charger\",\"86\"]\n",
    "uni_lst = []\n",
    "print(\"\\nDuplicates:\")\n",
    "for i in  lst:\n",
    "    if i not in uni_lst:\n",
    "        uni_lst.append(i)\n",
    "    else:\n",
    "        \n",
    "        print(i)\n",
    "print(\"\\n\\nUnique list: \\n\" + str(uni_lst))"
   ]
  },
  {
   "cell_type": "code",
   "execution_count": 12,
   "metadata": {},
   "outputs": [
    {
     "name": "stdout",
     "output_type": "stream",
     "text": [
      "\n",
      "\n",
      "Enter key to check:laptop\n",
      "\n",
      "\n",
      "\n",
      "Key is present and value is =  1000\n"
     ]
    }
   ],
   "source": [
    "#Task# 06:\n",
    "\n",
    "dict = {'laptop': 1000, 'mouse': 50, 'keyboard': 95, 'handsfree': 450}\n",
    "print(\"\\n\")\n",
    "key = input(\"Enter key to check:\")\n",
    "print(\"\\n\\n\")\n",
    "if key in dict: \n",
    "    print(\"Key is present and value is = \", dict[key]) \n",
    "else: \n",
    "    print(\"Not present\");"
   ]
  }
 ],
 "metadata": {
  "kernelspec": {
   "display_name": "Python 3",
   "language": "python",
   "name": "python3"
  },
  "language_info": {
   "codemirror_mode": {
    "name": "ipython",
    "version": 3
   },
   "file_extension": ".py",
   "mimetype": "text/x-python",
   "name": "python",
   "nbconvert_exporter": "python",
   "pygments_lexer": "ipython3",
   "version": "3.7.4"
  }
 },
 "nbformat": 4,
 "nbformat_minor": 2
}
